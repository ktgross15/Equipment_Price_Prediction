{
 "cells": [
  {
   "cell_type": "code",
   "execution_count": 1,
   "metadata": {},
   "outputs": [],
   "source": [
    "import pandas as pd\n",
    "import numpy as np\n",
    "import matplotlib.pyplot as plt\n",
    "%matplotlib inline\n",
    "import datetime as dt\n",
    "import seaborn as sns"
   ]
  },
  {
   "cell_type": "code",
   "execution_count": 24,
   "metadata": {},
   "outputs": [],
   "source": [
    "df = pd.read_csv('data/equipment_data.csv', parse_dates=['saledate'], low_memory=False)"
   ]
  },
  {
   "cell_type": "markdown",
   "metadata": {},
   "source": [
    "# Data Cleaning/EDA"
   ]
  },
  {
   "cell_type": "code",
   "execution_count": 25,
   "metadata": {},
   "outputs": [
    {
     "data": {
      "text/html": [
       "<div>\n",
       "<style scoped>\n",
       "    .dataframe tbody tr th:only-of-type {\n",
       "        vertical-align: middle;\n",
       "    }\n",
       "\n",
       "    .dataframe tbody tr th {\n",
       "        vertical-align: top;\n",
       "    }\n",
       "\n",
       "    .dataframe thead th {\n",
       "        text-align: right;\n",
       "    }\n",
       "</style>\n",
       "<table border=\"1\" class=\"dataframe\">\n",
       "  <thead>\n",
       "    <tr style=\"text-align: right;\">\n",
       "      <th></th>\n",
       "      <th>SalesID</th>\n",
       "      <th>SalePrice</th>\n",
       "      <th>MachineID</th>\n",
       "      <th>ModelID</th>\n",
       "      <th>datasource</th>\n",
       "      <th>auctioneerID</th>\n",
       "      <th>YearMade</th>\n",
       "      <th>MachineHoursCurrentMeter</th>\n",
       "      <th>UsageBand</th>\n",
       "      <th>saledate</th>\n",
       "      <th>...</th>\n",
       "      <th>Undercarriage_Pad_Width</th>\n",
       "      <th>Stick_Length</th>\n",
       "      <th>Thumb</th>\n",
       "      <th>Pattern_Changer</th>\n",
       "      <th>Grouser_Type</th>\n",
       "      <th>Backhoe_Mounting</th>\n",
       "      <th>Blade_Type</th>\n",
       "      <th>Travel_Controls</th>\n",
       "      <th>Differential_Type</th>\n",
       "      <th>Steering_Controls</th>\n",
       "    </tr>\n",
       "  </thead>\n",
       "  <tbody>\n",
       "    <tr>\n",
       "      <th>0</th>\n",
       "      <td>1139246</td>\n",
       "      <td>66000</td>\n",
       "      <td>999089</td>\n",
       "      <td>3157</td>\n",
       "      <td>121</td>\n",
       "      <td>3.0</td>\n",
       "      <td>2004</td>\n",
       "      <td>68.0</td>\n",
       "      <td>Low</td>\n",
       "      <td>2006-11-16</td>\n",
       "      <td>...</td>\n",
       "      <td>NaN</td>\n",
       "      <td>NaN</td>\n",
       "      <td>NaN</td>\n",
       "      <td>NaN</td>\n",
       "      <td>NaN</td>\n",
       "      <td>NaN</td>\n",
       "      <td>NaN</td>\n",
       "      <td>NaN</td>\n",
       "      <td>Standard</td>\n",
       "      <td>Conventional</td>\n",
       "    </tr>\n",
       "    <tr>\n",
       "      <th>1</th>\n",
       "      <td>1139248</td>\n",
       "      <td>57000</td>\n",
       "      <td>117657</td>\n",
       "      <td>77</td>\n",
       "      <td>121</td>\n",
       "      <td>3.0</td>\n",
       "      <td>1996</td>\n",
       "      <td>4640.0</td>\n",
       "      <td>Low</td>\n",
       "      <td>2004-03-26</td>\n",
       "      <td>...</td>\n",
       "      <td>NaN</td>\n",
       "      <td>NaN</td>\n",
       "      <td>NaN</td>\n",
       "      <td>NaN</td>\n",
       "      <td>NaN</td>\n",
       "      <td>NaN</td>\n",
       "      <td>NaN</td>\n",
       "      <td>NaN</td>\n",
       "      <td>Standard</td>\n",
       "      <td>Conventional</td>\n",
       "    </tr>\n",
       "    <tr>\n",
       "      <th>2</th>\n",
       "      <td>1139249</td>\n",
       "      <td>10000</td>\n",
       "      <td>434808</td>\n",
       "      <td>7009</td>\n",
       "      <td>121</td>\n",
       "      <td>3.0</td>\n",
       "      <td>2001</td>\n",
       "      <td>2838.0</td>\n",
       "      <td>High</td>\n",
       "      <td>2004-02-26</td>\n",
       "      <td>...</td>\n",
       "      <td>NaN</td>\n",
       "      <td>NaN</td>\n",
       "      <td>NaN</td>\n",
       "      <td>NaN</td>\n",
       "      <td>NaN</td>\n",
       "      <td>NaN</td>\n",
       "      <td>NaN</td>\n",
       "      <td>NaN</td>\n",
       "      <td>NaN</td>\n",
       "      <td>NaN</td>\n",
       "    </tr>\n",
       "    <tr>\n",
       "      <th>3</th>\n",
       "      <td>1139251</td>\n",
       "      <td>38500</td>\n",
       "      <td>1026470</td>\n",
       "      <td>332</td>\n",
       "      <td>121</td>\n",
       "      <td>3.0</td>\n",
       "      <td>2001</td>\n",
       "      <td>3486.0</td>\n",
       "      <td>High</td>\n",
       "      <td>2011-05-19</td>\n",
       "      <td>...</td>\n",
       "      <td>NaN</td>\n",
       "      <td>NaN</td>\n",
       "      <td>NaN</td>\n",
       "      <td>NaN</td>\n",
       "      <td>NaN</td>\n",
       "      <td>NaN</td>\n",
       "      <td>NaN</td>\n",
       "      <td>NaN</td>\n",
       "      <td>NaN</td>\n",
       "      <td>NaN</td>\n",
       "    </tr>\n",
       "    <tr>\n",
       "      <th>4</th>\n",
       "      <td>1139253</td>\n",
       "      <td>11000</td>\n",
       "      <td>1057373</td>\n",
       "      <td>17311</td>\n",
       "      <td>121</td>\n",
       "      <td>3.0</td>\n",
       "      <td>2007</td>\n",
       "      <td>722.0</td>\n",
       "      <td>Medium</td>\n",
       "      <td>2009-07-23</td>\n",
       "      <td>...</td>\n",
       "      <td>NaN</td>\n",
       "      <td>NaN</td>\n",
       "      <td>NaN</td>\n",
       "      <td>NaN</td>\n",
       "      <td>NaN</td>\n",
       "      <td>NaN</td>\n",
       "      <td>NaN</td>\n",
       "      <td>NaN</td>\n",
       "      <td>NaN</td>\n",
       "      <td>NaN</td>\n",
       "    </tr>\n",
       "  </tbody>\n",
       "</table>\n",
       "<p>5 rows × 53 columns</p>\n",
       "</div>"
      ],
      "text/plain": [
       "   SalesID  SalePrice  MachineID  ModelID  datasource  auctioneerID  YearMade  \\\n",
       "0  1139246      66000     999089     3157         121           3.0      2004   \n",
       "1  1139248      57000     117657       77         121           3.0      1996   \n",
       "2  1139249      10000     434808     7009         121           3.0      2001   \n",
       "3  1139251      38500    1026470      332         121           3.0      2001   \n",
       "4  1139253      11000    1057373    17311         121           3.0      2007   \n",
       "\n",
       "   MachineHoursCurrentMeter UsageBand   saledate        ...         \\\n",
       "0                      68.0       Low 2006-11-16        ...          \n",
       "1                    4640.0       Low 2004-03-26        ...          \n",
       "2                    2838.0      High 2004-02-26        ...          \n",
       "3                    3486.0      High 2011-05-19        ...          \n",
       "4                     722.0    Medium 2009-07-23        ...          \n",
       "\n",
       "  Undercarriage_Pad_Width Stick_Length Thumb Pattern_Changer Grouser_Type  \\\n",
       "0                     NaN          NaN   NaN             NaN          NaN   \n",
       "1                     NaN          NaN   NaN             NaN          NaN   \n",
       "2                     NaN          NaN   NaN             NaN          NaN   \n",
       "3                     NaN          NaN   NaN             NaN          NaN   \n",
       "4                     NaN          NaN   NaN             NaN          NaN   \n",
       "\n",
       "  Backhoe_Mounting Blade_Type Travel_Controls Differential_Type  \\\n",
       "0              NaN        NaN             NaN          Standard   \n",
       "1              NaN        NaN             NaN          Standard   \n",
       "2              NaN        NaN             NaN               NaN   \n",
       "3              NaN        NaN             NaN               NaN   \n",
       "4              NaN        NaN             NaN               NaN   \n",
       "\n",
       "  Steering_Controls  \n",
       "0      Conventional  \n",
       "1      Conventional  \n",
       "2               NaN  \n",
       "3               NaN  \n",
       "4               NaN  \n",
       "\n",
       "[5 rows x 53 columns]"
      ]
     },
     "execution_count": 25,
     "metadata": {},
     "output_type": "execute_result"
    }
   ],
   "source": [
    "df.head()"
   ]
  },
  {
   "cell_type": "code",
   "execution_count": 26,
   "metadata": {},
   "outputs": [
    {
     "name": "stdout",
     "output_type": "stream",
     "text": [
      "<class 'pandas.core.frame.DataFrame'>\n",
      "RangeIndex: 401125 entries, 0 to 401124\n",
      "Data columns (total 53 columns):\n",
      "SalesID                     401125 non-null int64\n",
      "SalePrice                   401125 non-null int64\n",
      "MachineID                   401125 non-null int64\n",
      "ModelID                     401125 non-null int64\n",
      "datasource                  401125 non-null int64\n",
      "auctioneerID                380989 non-null float64\n",
      "YearMade                    401125 non-null int64\n",
      "MachineHoursCurrentMeter    142765 non-null float64\n",
      "UsageBand                   69639 non-null object\n",
      "saledate                    401125 non-null datetime64[ns]\n",
      "fiModelDesc                 401125 non-null object\n",
      "fiBaseModel                 401125 non-null object\n",
      "fiSecondaryDesc             263934 non-null object\n",
      "fiModelSeries               56908 non-null object\n",
      "fiModelDescriptor           71919 non-null object\n",
      "ProductSize                 190350 non-null object\n",
      "fiProductClassDesc          401125 non-null object\n",
      "state                       401125 non-null object\n",
      "ProductGroup                401125 non-null object\n",
      "ProductGroupDesc            401125 non-null object\n",
      "Drive_System                104361 non-null object\n",
      "Enclosure                   400800 non-null object\n",
      "Forks                       192077 non-null object\n",
      "Pad_Type                    79134 non-null object\n",
      "Ride_Control                148606 non-null object\n",
      "Stick                       79134 non-null object\n",
      "Transmission                183230 non-null object\n",
      "Turbocharged                79134 non-null object\n",
      "Blade_Extension             25219 non-null object\n",
      "Blade_Width                 25219 non-null object\n",
      "Enclosure_Type              25219 non-null object\n",
      "Engine_Horsepower           25219 non-null object\n",
      "Hydraulics                  320570 non-null object\n",
      "Pushblock                   25219 non-null object\n",
      "Ripper                      104137 non-null object\n",
      "Scarifier                   25230 non-null object\n",
      "Tip_Control                 25219 non-null object\n",
      "Tire_Size                   94718 non-null object\n",
      "Coupler                     213952 non-null object\n",
      "Coupler_System              43458 non-null object\n",
      "Grouser_Tracks              43362 non-null object\n",
      "Hydraulics_Flow             43362 non-null object\n",
      "Track_Type                  99153 non-null object\n",
      "Undercarriage_Pad_Width     99872 non-null object\n",
      "Stick_Length                99218 non-null object\n",
      "Thumb                       99288 non-null object\n",
      "Pattern_Changer             99218 non-null object\n",
      "Grouser_Type                99153 non-null object\n",
      "Backhoe_Mounting            78672 non-null object\n",
      "Blade_Type                  79833 non-null object\n",
      "Travel_Controls             79834 non-null object\n",
      "Differential_Type           69411 non-null object\n",
      "Steering_Controls           69369 non-null object\n",
      "dtypes: datetime64[ns](1), float64(2), int64(6), object(44)\n",
      "memory usage: 162.2+ MB\n"
     ]
    }
   ],
   "source": [
    "df.info()"
   ]
  },
  {
   "cell_type": "markdown",
   "metadata": {},
   "source": [
    "There are a lot of missing values here... let's look at the missing values for each column."
   ]
  },
  {
   "cell_type": "markdown",
   "metadata": {},
   "source": [
    "For MachineHoursCurrentMeter, we can replace 0 with np.nan because the data dictionary file says that both 0 and null values mean that no hours were reported."
   ]
  },
  {
   "cell_type": "code",
   "execution_count": 27,
   "metadata": {},
   "outputs": [],
   "source": [
    "df['MachineHoursCurrentMeter'].replace(0, np.nan, inplace=True)"
   ]
  },
  {
   "cell_type": "markdown",
   "metadata": {},
   "source": [
    "We can drop null values from Enclosure because there are so few"
   ]
  },
  {
   "cell_type": "code",
   "execution_count": 28,
   "metadata": {},
   "outputs": [],
   "source": [
    "df.dropna(subset=['Enclosure'], inplace=True)"
   ]
  },
  {
   "cell_type": "code",
   "execution_count": 29,
   "metadata": {},
   "outputs": [
    {
     "data": {
      "text/plain": [
       "2 Valve                141404\n",
       "Standard               104423\n",
       "Auxiliary               40737\n",
       "Base + 1 Function       24770\n",
       "3 Valve                  5622\n",
       "4 Valve                  2960\n",
       "Base + 3 Function         299\n",
       "Base + 2 Function         127\n",
       "Base + 5 Function          89\n",
       "Base + 4 Function          76\n",
       "Base + 6 Function          53\n",
       "None or Unspecified        10\n",
       "Name: Hydraulics, dtype: int64"
      ]
     },
     "execution_count": 29,
     "metadata": {},
     "output_type": "execute_result"
    }
   ],
   "source": [
    "df['Hydraulics'].value_counts()"
   ]
  },
  {
   "cell_type": "code",
   "execution_count": 30,
   "metadata": {},
   "outputs": [],
   "source": [
    "df['Hydraulics'] = df['Hydraulics'].replace({'Base + 1 Function': 'Base +',\n",
    "                                                   'Base + 2 Function': 'Base +',\n",
    "                                                   'Base + 3 Function': 'Base +',\n",
    "                                                   'Base + 4 Function': 'Base +',\n",
    "                                                   'Base + 5 Function': 'Base +',\n",
    "                                                   'Base + 6 Function': 'Base +',\n",
    "                                                  })"
   ]
  },
  {
   "cell_type": "markdown",
   "metadata": {},
   "source": [
    "We can put all null values in the \"None or Unspecified\" category"
   ]
  },
  {
   "cell_type": "code",
   "execution_count": 31,
   "metadata": {},
   "outputs": [],
   "source": [
    "df['Hydraulics'] = df['Hydraulics'].replace(np.nan, 'None or Unspecified')"
   ]
  },
  {
   "cell_type": "code",
   "execution_count": 32,
   "metadata": {},
   "outputs": [],
   "source": [
    "def plot_boxplot(x):\n",
    "    sns.boxplot(x=x, y='SalePrice', data=df)\n",
    "    plt.show()"
   ]
  },
  {
   "cell_type": "code",
   "execution_count": 33,
   "metadata": {},
   "outputs": [
    {
     "data": {
      "image/png": "[encoded data removed]",
      "text/plain": [
       "<matplotlib.figure.Figure at 0x7f4140754f90>"
      ]
     },
     "metadata": {},
     "output_type": "display_data"
    }
   ],
   "source": [
    "plot_boxplot('Hydraulics')"
   ]
  },
  {
   "cell_type": "code",
   "execution_count": 34,
   "metadata": {},
   "outputs": [
    {
     "data": {
      "text/plain": [
       "Medium            62198\n",
       "Large / Medium    49637\n",
       "Small             26446\n",
       "Mini              24814\n",
       "Large             20914\n",
       "Compact            6086\n",
       "Name: ProductSize, dtype: int64"
      ]
     },
     "execution_count": 34,
     "metadata": {},
     "output_type": "execute_result"
    }
   ],
   "source": [
    "df['ProductSize'].value_counts()"
   ]
  },
  {
   "cell_type": "code",
   "execution_count": 35,
   "metadata": {},
   "outputs": [
    {
     "data": {
      "image/png": "[encoded data removed]",
      "text/plain": [
       "<matplotlib.figure.Figure at 0x7f41406c0350>"
      ]
     },
     "metadata": {},
     "output_type": "display_data"
    }
   ],
   "source": [
    "plot_boxplot('ProductSize')"
   ]
  },
  {
   "cell_type": "code",
   "execution_count": 36,
   "metadata": {},
   "outputs": [],
   "source": [
    "df['ProductSize'].fillna('Medium', inplace=True)"
   ]
  },
  {
   "cell_type": "code",
   "execution_count": 37,
   "metadata": {},
   "outputs": [
    {
     "data": {
      "text/html": [
       "<div>\n",
       "<style scoped>\n",
       "    .dataframe tbody tr th:only-of-type {\n",
       "        vertical-align: middle;\n",
       "    }\n",
       "\n",
       "    .dataframe tbody tr th {\n",
       "        vertical-align: top;\n",
       "    }\n",
       "\n",
       "    .dataframe thead th {\n",
       "        text-align: right;\n",
       "    }\n",
       "</style>\n",
       "<table border=\"1\" class=\"dataframe\">\n",
       "  <thead>\n",
       "    <tr style=\"text-align: right;\">\n",
       "      <th></th>\n",
       "      <th>count</th>\n",
       "      <th>mean</th>\n",
       "      <th>std</th>\n",
       "      <th>min</th>\n",
       "      <th>25%</th>\n",
       "      <th>50%</th>\n",
       "      <th>75%</th>\n",
       "      <th>max</th>\n",
       "    </tr>\n",
       "  </thead>\n",
       "  <tbody>\n",
       "    <tr>\n",
       "      <th>SalesID</th>\n",
       "      <td>400800.0</td>\n",
       "      <td>1.919760e+06</td>\n",
       "      <td>909258.933700</td>\n",
       "      <td>1139246.0</td>\n",
       "      <td>1418278.75</td>\n",
       "      <td>1639287.5</td>\n",
       "      <td>2242724.25</td>\n",
       "      <td>6333342.0</td>\n",
       "    </tr>\n",
       "    <tr>\n",
       "      <th>SalePrice</th>\n",
       "      <td>400800.0</td>\n",
       "      <td>3.110223e+04</td>\n",
       "      <td>23041.323334</td>\n",
       "      <td>4750.0</td>\n",
       "      <td>14500.00</td>\n",
       "      <td>24000.0</td>\n",
       "      <td>40000.00</td>\n",
       "      <td>142000.0</td>\n",
       "    </tr>\n",
       "    <tr>\n",
       "      <th>MachineID</th>\n",
       "      <td>400800.0</td>\n",
       "      <td>1.218007e+06</td>\n",
       "      <td>440977.700331</td>\n",
       "      <td>0.0</td>\n",
       "      <td>1088790.00</td>\n",
       "      <td>1279545.5</td>\n",
       "      <td>1468105.25</td>\n",
       "      <td>2486330.0</td>\n",
       "    </tr>\n",
       "    <tr>\n",
       "      <th>ModelID</th>\n",
       "      <td>400800.0</td>\n",
       "      <td>6.891301e+03</td>\n",
       "      <td>6220.441782</td>\n",
       "      <td>28.0</td>\n",
       "      <td>3261.00</td>\n",
       "      <td>4604.0</td>\n",
       "      <td>8724.00</td>\n",
       "      <td>37198.0</td>\n",
       "    </tr>\n",
       "    <tr>\n",
       "      <th>datasource</th>\n",
       "      <td>400800.0</td>\n",
       "      <td>1.346671e+02</td>\n",
       "      <td>8.964396</td>\n",
       "      <td>121.0</td>\n",
       "      <td>132.00</td>\n",
       "      <td>132.0</td>\n",
       "      <td>136.00</td>\n",
       "      <td>172.0</td>\n",
       "    </tr>\n",
       "    <tr>\n",
       "      <th>auctioneerID</th>\n",
       "      <td>380668.0</td>\n",
       "      <td>6.556456e+00</td>\n",
       "      <td>16.978494</td>\n",
       "      <td>0.0</td>\n",
       "      <td>1.00</td>\n",
       "      <td>2.0</td>\n",
       "      <td>4.00</td>\n",
       "      <td>99.0</td>\n",
       "    </tr>\n",
       "    <tr>\n",
       "      <th>YearMade</th>\n",
       "      <td>400800.0</td>\n",
       "      <td>1.899256e+03</td>\n",
       "      <td>291.664490</td>\n",
       "      <td>1000.0</td>\n",
       "      <td>1985.00</td>\n",
       "      <td>1995.0</td>\n",
       "      <td>2000.00</td>\n",
       "      <td>2013.0</td>\n",
       "    </tr>\n",
       "    <tr>\n",
       "      <th>MachineHoursCurrentMeter</th>\n",
       "      <td>69608.0</td>\n",
       "      <td>7.089214e+03</td>\n",
       "      <td>39185.499022</td>\n",
       "      <td>2.0</td>\n",
       "      <td>1572.00</td>\n",
       "      <td>3137.0</td>\n",
       "      <td>6265.00</td>\n",
       "      <td>2483300.0</td>\n",
       "    </tr>\n",
       "  </tbody>\n",
       "</table>\n",
       "</div>"
      ],
      "text/plain": [
       "                             count          mean            std        min  \\\n",
       "SalesID                   400800.0  1.919760e+06  909258.933700  1139246.0   \n",
       "SalePrice                 400800.0  3.110223e+04   23041.323334     4750.0   \n",
       "MachineID                 400800.0  1.218007e+06  440977.700331        0.0   \n",
       "ModelID                   400800.0  6.891301e+03    6220.441782       28.0   \n",
       "datasource                400800.0  1.346671e+02       8.964396      121.0   \n",
       "auctioneerID              380668.0  6.556456e+00      16.978494        0.0   \n",
       "YearMade                  400800.0  1.899256e+03     291.664490     1000.0   \n",
       "MachineHoursCurrentMeter   69608.0  7.089214e+03   39185.499022        2.0   \n",
       "\n",
       "                                 25%        50%         75%        max  \n",
       "SalesID                   1418278.75  1639287.5  2242724.25  6333342.0  \n",
       "SalePrice                   14500.00    24000.0    40000.00   142000.0  \n",
       "MachineID                 1088790.00  1279545.5  1468105.25  2486330.0  \n",
       "ModelID                      3261.00     4604.0     8724.00    37198.0  \n",
       "datasource                    132.00      132.0      136.00      172.0  \n",
       "auctioneerID                    1.00        2.0        4.00       99.0  \n",
       "YearMade                     1985.00     1995.0     2000.00     2013.0  \n",
       "MachineHoursCurrentMeter     1572.00     3137.0     6265.00  2483300.0  "
      ]
     },
     "execution_count": 37,
     "metadata": {},
     "output_type": "execute_result"
    }
   ],
   "source": [
    "df.describe().T"
   ]
  },
  {
   "cell_type": "code",
   "execution_count": 38,
   "metadata": {},
   "outputs": [
    {
     "data": {
      "text/plain": [
       "SalesID                          0\n",
       "state                            0\n",
       "fiProductClassDesc               0\n",
       "ProductSize                      0\n",
       "Enclosure                        0\n",
       "fiBaseModel                      0\n",
       "fiModelDesc                      0\n",
       "ProductGroup                     0\n",
       "saledate                         0\n",
       "YearMade                         0\n",
       "datasource                       0\n",
       "ModelID                          0\n",
       "MachineID                        0\n",
       "SalePrice                        0\n",
       "Hydraulics                       0\n",
       "ProductGroupDesc                 0\n",
       "auctioneerID                 20132\n",
       "fiSecondaryDesc             137071\n",
       "Coupler                     186848\n",
       "Forks                       208723\n",
       "Transmission                217570\n",
       "Ride_Control                252194\n",
       "Drive_System                296439\n",
       "Ripper                      296663\n",
       "Undercarriage_Pad_Width     300928\n",
       "Thumb                       301512\n",
       "Stick_Length                301582\n",
       "Pattern_Changer             301582\n",
       "Grouser_Type                301647\n",
       "Track_Type                  301647\n",
       "Tire_Size                   306082\n",
       "Travel_Controls             320966\n",
       "Blade_Type                  320967\n",
       "Turbocharged                321666\n",
       "Stick                       321666\n",
       "Pad_Type                    321666\n",
       "Backhoe_Mounting            322128\n",
       "fiModelDescriptor           328935\n",
       "UsageBand                   331192\n",
       "MachineHoursCurrentMeter    331192\n",
       "Differential_Type           331389\n",
       "Steering_Controls           331431\n",
       "fiModelSeries               344066\n",
       "Coupler_System              357342\n",
       "Grouser_Tracks              357438\n",
       "Hydraulics_Flow             357438\n",
       "Scarifier                   375570\n",
       "Pushblock                   375581\n",
       "Engine_Horsepower           375581\n",
       "Enclosure_Type              375581\n",
       "Blade_Width                 375581\n",
       "Blade_Extension             375581\n",
       "Tip_Control                 375581\n",
       "dtype: int64"
      ]
     },
     "execution_count": 38,
     "metadata": {},
     "output_type": "execute_result"
    }
   ],
   "source": [
    "df.isnull().sum().sort_values()"
   ]
  },
  {
   "cell_type": "code",
   "execution_count": 39,
   "metadata": {},
   "outputs": [],
   "source": [
    "# remove columns with any null values\n",
    "\n",
    "col_lengths = df.apply(lambda x: x.count())\n",
    "keep_cols = col_lengths[col_lengths == len(df)] #these are the columns w/ no missing values"
   ]
  },
  {
   "cell_type": "code",
   "execution_count": 40,
   "metadata": {},
   "outputs": [],
   "source": [
    "df = df[keep_cols.index].copy()"
   ]
  },
  {
   "cell_type": "markdown",
   "metadata": {},
   "source": [
    "YearMade appears to have some outliers"
   ]
  },
  {
   "cell_type": "code",
   "execution_count": 41,
   "metadata": {},
   "outputs": [
    {
     "data": {
      "image/png": "[encoded data removed]",
      "text/plain": [
       "<matplotlib.figure.Figure at 0x7f41404cd250>"
      ]
     },
     "metadata": {},
     "output_type": "display_data"
    }
   ],
   "source": [
    "plt.hist(df['YearMade'])\n",
    "plt.show()"
   ]
  },
  {
   "cell_type": "code",
   "execution_count": 42,
   "metadata": {},
   "outputs": [
    {
     "data": {
      "text/plain": [
       "[1000, 1919, 1920, 1937, 1942]"
      ]
     },
     "execution_count": 42,
     "metadata": {},
     "output_type": "execute_result"
    }
   ],
   "source": [
    "sorted(df['YearMade'].unique())[:5]"
   ]
  },
  {
   "cell_type": "code",
   "execution_count": 43,
   "metadata": {},
   "outputs": [
    {
     "data": {
      "text/plain": [
       "1000    38115\n",
       "1998    21213\n",
       "2005    20587\n",
       "2004    20009\n",
       "1997    18894\n",
       "Name: YearMade, dtype: int64"
      ]
     },
     "execution_count": 43,
     "metadata": {},
     "output_type": "execute_result"
    }
   ],
   "source": [
    "df['YearMade'].value_counts().head()"
   ]
  },
  {
   "cell_type": "code",
   "execution_count": 44,
   "metadata": {},
   "outputs": [
    {
     "data": {
      "text/plain": [
       "1000    0.095097\n",
       "1998    0.052927\n",
       "2005    0.051365\n",
       "2004    0.049923\n",
       "1997    0.047141\n",
       "Name: YearMade, dtype: float64"
      ]
     },
     "execution_count": 44,
     "metadata": {},
     "output_type": "execute_result"
    }
   ],
   "source": [
    "df['YearMade'].value_counts().head()/df['YearMade'].count()"
   ]
  },
  {
   "cell_type": "code",
   "execution_count": 45,
   "metadata": {},
   "outputs": [
    {
     "data": {
      "image/png": "[encoded data removed]",
      "text/plain": [
       "<matplotlib.figure.Figure at 0x7f414057fe50>"
      ]
     },
     "metadata": {},
     "output_type": "display_data"
    }
   ],
   "source": [
    "plt.hist(df[df['YearMade']>1000]['YearMade'])\n",
    "plt.show()"
   ]
  },
  {
   "cell_type": "markdown",
   "metadata": {},
   "source": [
    "The outlier year, 1000, is also the most common value and accounts for almost 10% of our data so we might not want to drop it. For now, we will replace it with the mean."
   ]
  },
  {
   "cell_type": "code",
   "execution_count": 46,
   "metadata": {},
   "outputs": [
    {
     "data": {
      "text/plain": [
       "1993.7595075616582"
      ]
     },
     "execution_count": 46,
     "metadata": {},
     "output_type": "execute_result"
    }
   ],
   "source": [
    "mean = df[df['YearMade']>1000]['YearMade'].mean()\n",
    "mean"
   ]
  },
  {
   "cell_type": "code",
   "execution_count": 47,
   "metadata": {},
   "outputs": [],
   "source": [
    "df['YearMade'] = df['YearMade'].replace(1000, mean)"
   ]
  },
  {
   "cell_type": "code",
   "execution_count": 48,
   "metadata": {},
   "outputs": [
    {
     "data": {
      "text/plain": [
       "0     WL\n",
       "1     WL\n",
       "2    SSL\n",
       "3    TEX\n",
       "4    SSL\n",
       "Name: ProductGroup, dtype: object"
      ]
     },
     "execution_count": 48,
     "metadata": {},
     "output_type": "execute_result"
    }
   ],
   "source": [
    "df['ProductGroup'].head()"
   ]
  },
  {
   "cell_type": "code",
   "execution_count": 49,
   "metadata": {},
   "outputs": [
    {
     "data": {
      "image/png": "[encoded data removed]",
      "text/plain": [
       "<matplotlib.figure.Figure at 0x7f412323f250>"
      ]
     },
     "metadata": {},
     "output_type": "display_data"
    }
   ],
   "source": [
    "plot_boxplot('ProductGroup')"
   ]
  },
  {
   "cell_type": "code",
   "execution_count": 50,
   "metadata": {},
   "outputs": [
    {
     "data": {
      "text/plain": [
       "0          Wheel Loader\n",
       "1          Wheel Loader\n",
       "2    Skid Steer Loaders\n",
       "3      Track Excavators\n",
       "4    Skid Steer Loaders\n",
       "Name: ProductGroupDesc, dtype: object"
      ]
     },
     "execution_count": 50,
     "metadata": {},
     "output_type": "execute_result"
    }
   ],
   "source": [
    "df['ProductGroupDesc'].head()"
   ]
  },
  {
   "cell_type": "markdown",
   "metadata": {},
   "source": [
    "ProductGroup and ProductGroupDesc are the same... one is just an abbreviated version of the other, so we don't need both."
   ]
  },
  {
   "cell_type": "code",
   "execution_count": 51,
   "metadata": {},
   "outputs": [],
   "source": [
    "df.drop('ProductGroup', axis=1, inplace=True)"
   ]
  },
  {
   "cell_type": "code",
   "execution_count": 52,
   "metadata": {},
   "outputs": [
    {
     "data": {
      "text/plain": [
       "2009-02-16    1932\n",
       "2011-02-15    1352\n",
       "2008-02-19    1300\n",
       "2010-02-15    1219\n",
       "2008-02-11    1098\n",
       "2009-03-26    1050\n",
       "2008-02-03    1007\n",
       "2009-02-09     998\n",
       "2009-01-31     940\n",
       "2009-03-19     914\n",
       "Name: saledate, dtype: int64"
      ]
     },
     "execution_count": 52,
     "metadata": {},
     "output_type": "execute_result"
    }
   ],
   "source": [
    "df['saledate'].value_counts().head(10)"
   ]
  },
  {
   "cell_type": "code",
   "execution_count": 53,
   "metadata": {},
   "outputs": [],
   "source": [
    "# Feature Engineering - Equipment Age\n",
    "\n",
    "df['equipment_age'] = df['saledate'].dt.year - df['YearMade']\n",
    "df.drop(['saledate','YearMade'], axis=1, inplace=True)"
   ]
  },
  {
   "cell_type": "code",
   "execution_count": 54,
   "metadata": {},
   "outputs": [],
   "source": [
    "def plot_scatter(x):\n",
    "    plt.scatter(df[x], df['SalePrice'])\n",
    "    plt.xlabel(x)\n",
    "    plt.ylabel('SalePrice')\n",
    "    plt.show()"
   ]
  },
  {
   "cell_type": "code",
   "execution_count": 55,
   "metadata": {},
   "outputs": [
    {
     "data": {
      "image/png": "[encoded data removed]",
      "text/plain": [
       "<matplotlib.figure.Figure at 0x7f41404d7b90>"
      ]
     },
     "metadata": {},
     "output_type": "display_data"
    }
   ],
   "source": [
    "plot_scatter('equipment_age')"
   ]
  },
  {
   "cell_type": "markdown",
   "metadata": {},
   "source": [
    "We can see a negative correlation betwen sale price and equipment age\n",
    "\n",
    "There are some outliers here - negative values and ages above 70. Let's drop them."
   ]
  },
  {
   "cell_type": "code",
   "execution_count": 56,
   "metadata": {},
   "outputs": [],
   "source": [
    "df = df[df['equipment_age']>=0]\n",
    "df = df[df['equipment_age']<70]"
   ]
  },
  {
   "cell_type": "code",
   "execution_count": 57,
   "metadata": {},
   "outputs": [],
   "source": [
    "df = pd.get_dummies(df, columns=['Hydraulics','ProductSize'], drop_first=True)"
   ]
  },
  {
   "cell_type": "code",
   "execution_count": 58,
   "metadata": {},
   "outputs": [
    {
     "data": {
      "text/plain": [
       "OROPS                  173836\n",
       "EROPS                  138988\n",
       "EROPS w AC              87795\n",
       "EROPS AC                   17\n",
       "NO ROPS                     3\n",
       "None or Unspecified         2\n",
       "Name: Enclosure, dtype: int64"
      ]
     },
     "execution_count": 58,
     "metadata": {},
     "output_type": "execute_result"
    }
   ],
   "source": [
    "df['Enclosure'].value_counts()"
   ]
  },
  {
   "cell_type": "code",
   "execution_count": 59,
   "metadata": {},
   "outputs": [
    {
     "data": {
      "image/png": "[encoded data removed]",
      "text/plain": [
       "<matplotlib.figure.Figure at 0x7f41406bfd90>"
      ]
     },
     "metadata": {},
     "output_type": "display_data"
    }
   ],
   "source": [
    "plot_boxplot('Enclosure')"
   ]
  },
  {
   "cell_type": "code",
   "execution_count": 60,
   "metadata": {},
   "outputs": [],
   "source": [
    "# exclude last three values from Enclosure because value counts are very low and then create dummy variables\n",
    "\n",
    "df = df[(df['Enclosure'] != 'NO ROPS') & \n",
    "        (df['Enclosure'] != 'EROPS AC') & \n",
    "        (df['Enclosure'] != 'None or Unspecified')] \n",
    "\n",
    "df = pd.get_dummies(df, columns=['Enclosure'], drop_first=True)"
   ]
  },
  {
   "cell_type": "code",
   "execution_count": 61,
   "metadata": {},
   "outputs": [],
   "source": [
    "df.drop(['fiModelDesc',\n",
    "               'fiBaseModel', \n",
    "               'fiProductClassDesc', \n",
    "               'state',\n",
    "               'SalesID',\n",
    "               'MachineID',\n",
    "               'ModelID',\n",
    "               'ProductGroupDesc',\n",
    "               'datasource',\n",
    "                 ], axis=1, inplace=True)"
   ]
  },
  {
   "cell_type": "code",
   "execution_count": 67,
   "metadata": {},
   "outputs": [
    {
     "name": "stdout",
     "output_type": "stream",
     "text": [
      "<class 'pandas.core.frame.DataFrame'>\n",
      "Int64Index: 400619 entries, 0 to 401124\n",
      "Data columns (total 15 columns):\n",
      "SalePrice                         400619 non-null int64\n",
      "equipment_age                     400619 non-null float64\n",
      "Hydraulics_3 Valve                400619 non-null uint8\n",
      "Hydraulics_4 Valve                400619 non-null uint8\n",
      "Hydraulics_Auxiliary              400619 non-null uint8\n",
      "Hydraulics_Base +                 400619 non-null uint8\n",
      "Hydraulics_None or Unspecified    400619 non-null uint8\n",
      "Hydraulics_Standard               400619 non-null uint8\n",
      "Enclosure_EROPS w AC              400619 non-null uint8\n",
      "Enclosure_OROPS                   400619 non-null uint8\n",
      "ProductSize_Large                 400619 non-null uint8\n",
      "ProductSize_Large / Medium        400619 non-null uint8\n",
      "ProductSize_Medium                400619 non-null uint8\n",
      "ProductSize_Mini                  400619 non-null uint8\n",
      "ProductSize_Small                 400619 non-null uint8\n",
      "dtypes: float64(1), int64(1), uint8(13)\n",
      "memory usage: 24.1 MB\n"
     ]
    }
   ],
   "source": [
    "df.info()"
   ]
  },
  {
   "cell_type": "markdown",
   "metadata": {},
   "source": [
    "# Modeling"
   ]
  },
  {
   "cell_type": "code",
   "execution_count": 68,
   "metadata": {},
   "outputs": [],
   "source": [
    "import statsmodels.api as sm\n",
    "from statsmodels.stats.outliers_influence import variance_inflation_factor\n",
    "from sklearn.linear_model import LinearRegression\n",
    "from sklearn.model_selection import train_test_split"
   ]
  },
  {
   "cell_type": "code",
   "execution_count": 69,
   "metadata": {},
   "outputs": [],
   "source": [
    "X = df.drop(['SalePrice'], axis=1)\n",
    "X = sm.add_constant(X)\n",
    "y = df['SalePrice']\n",
    "\n",
    "X_train, X_test, y_train, y_test = train_test_split(X, y)"
   ]
  },
  {
   "cell_type": "code",
   "execution_count": 70,
   "metadata": {},
   "outputs": [
    {
     "data": {
      "text/html": [
       "<div>\n",
       "<style scoped>\n",
       "    .dataframe tbody tr th:only-of-type {\n",
       "        vertical-align: middle;\n",
       "    }\n",
       "\n",
       "    .dataframe tbody tr th {\n",
       "        vertical-align: top;\n",
       "    }\n",
       "\n",
       "    .dataframe thead th {\n",
       "        text-align: right;\n",
       "    }\n",
       "</style>\n",
       "<table border=\"1\" class=\"dataframe\">\n",
       "  <thead>\n",
       "    <tr style=\"text-align: right;\">\n",
       "      <th></th>\n",
       "      <th>Features</th>\n",
       "      <th>VIF Factor</th>\n",
       "    </tr>\n",
       "  </thead>\n",
       "  <tbody>\n",
       "    <tr>\n",
       "      <th>0</th>\n",
       "      <td>const</td>\n",
       "      <td>72.643802</td>\n",
       "    </tr>\n",
       "    <tr>\n",
       "      <th>1</th>\n",
       "      <td>equipment_age</td>\n",
       "      <td>1.314207</td>\n",
       "    </tr>\n",
       "    <tr>\n",
       "      <th>2</th>\n",
       "      <td>Hydraulics_3 Valve</td>\n",
       "      <td>1.034833</td>\n",
       "    </tr>\n",
       "    <tr>\n",
       "      <th>3</th>\n",
       "      <td>Hydraulics_4 Valve</td>\n",
       "      <td>1.022248</td>\n",
       "    </tr>\n",
       "    <tr>\n",
       "      <th>4</th>\n",
       "      <td>Hydraulics_Auxiliary</td>\n",
       "      <td>1.740905</td>\n",
       "    </tr>\n",
       "    <tr>\n",
       "      <th>5</th>\n",
       "      <td>Hydraulics_Base +</td>\n",
       "      <td>1.225578</td>\n",
       "    </tr>\n",
       "    <tr>\n",
       "      <th>6</th>\n",
       "      <td>Hydraulics_None or Unspecified</td>\n",
       "      <td>1.419439</td>\n",
       "    </tr>\n",
       "    <tr>\n",
       "      <th>7</th>\n",
       "      <td>Hydraulics_Standard</td>\n",
       "      <td>2.785949</td>\n",
       "    </tr>\n",
       "    <tr>\n",
       "      <th>8</th>\n",
       "      <td>Enclosure_EROPS w AC</td>\n",
       "      <td>1.432317</td>\n",
       "    </tr>\n",
       "    <tr>\n",
       "      <th>9</th>\n",
       "      <td>Enclosure_OROPS</td>\n",
       "      <td>1.861347</td>\n",
       "    </tr>\n",
       "    <tr>\n",
       "      <th>10</th>\n",
       "      <td>ProductSize_Large</td>\n",
       "      <td>4.332559</td>\n",
       "    </tr>\n",
       "    <tr>\n",
       "      <th>11</th>\n",
       "      <td>ProductSize_Large / Medium</td>\n",
       "      <td>9.967956</td>\n",
       "    </tr>\n",
       "    <tr>\n",
       "      <th>12</th>\n",
       "      <td>ProductSize_Medium</td>\n",
       "      <td>15.080458</td>\n",
       "    </tr>\n",
       "    <tr>\n",
       "      <th>13</th>\n",
       "      <td>ProductSize_Mini</td>\n",
       "      <td>5.757752</td>\n",
       "    </tr>\n",
       "    <tr>\n",
       "      <th>14</th>\n",
       "      <td>ProductSize_Small</td>\n",
       "      <td>6.072192</td>\n",
       "    </tr>\n",
       "  </tbody>\n",
       "</table>\n",
       "</div>"
      ],
      "text/plain": [
       "                          Features  VIF Factor\n",
       "0                            const   72.643802\n",
       "1                    equipment_age    1.314207\n",
       "2               Hydraulics_3 Valve    1.034833\n",
       "3               Hydraulics_4 Valve    1.022248\n",
       "4             Hydraulics_Auxiliary    1.740905\n",
       "5                Hydraulics_Base +    1.225578\n",
       "6   Hydraulics_None or Unspecified    1.419439\n",
       "7              Hydraulics_Standard    2.785949\n",
       "8             Enclosure_EROPS w AC    1.432317\n",
       "9                  Enclosure_OROPS    1.861347\n",
       "10               ProductSize_Large    4.332559\n",
       "11      ProductSize_Large / Medium    9.967956\n",
       "12              ProductSize_Medium   15.080458\n",
       "13                ProductSize_Mini    5.757752\n",
       "14               ProductSize_Small    6.072192"
      ]
     },
     "execution_count": 70,
     "metadata": {},
     "output_type": "execute_result"
    }
   ],
   "source": [
    "vif = pd.DataFrame()\n",
    "vif[\"Features\"] = X.columns\n",
    "vif[\"VIF Factor\"] = [variance_inflation_factor(X.values, i) for i in range(X.shape[1])]\n",
    "vif"
   ]
  },
  {
   "cell_type": "code",
   "execution_count": 71,
   "metadata": {
    "scrolled": false
   },
   "outputs": [
    {
     "data": {
      "text/html": [
       "<table class=\"simpletable\">\n",
       "<caption>OLS Regression Results</caption>\n",
       "<tr>\n",
       "  <th>Dep. Variable:</th>        <td>SalePrice</td>    <th>  R-squared:         </th>  <td>   0.542</td>  \n",
       "</tr>\n",
       "<tr>\n",
       "  <th>Model:</th>                   <td>OLS</td>       <th>  Adj. R-squared:    </th>  <td>   0.542</td>  \n",
       "</tr>\n",
       "<tr>\n",
       "  <th>Method:</th>             <td>Least Squares</td>  <th>  F-statistic:       </th>  <td>2.535e+04</td> \n",
       "</tr>\n",
       "<tr>\n",
       "  <th>Date:</th>             <td>Tue, 20 Feb 2018</td> <th>  Prob (F-statistic):</th>   <td>  0.00</td>   \n",
       "</tr>\n",
       "<tr>\n",
       "  <th>Time:</th>                 <td>15:27:36</td>     <th>  Log-Likelihood:    </th> <td>-3.3276e+06</td>\n",
       "</tr>\n",
       "<tr>\n",
       "  <th>No. Observations:</th>      <td>300464</td>      <th>  AIC:               </th>  <td>6.655e+06</td> \n",
       "</tr>\n",
       "<tr>\n",
       "  <th>Df Residuals:</th>          <td>300449</td>      <th>  BIC:               </th>  <td>6.655e+06</td> \n",
       "</tr>\n",
       "<tr>\n",
       "  <th>Df Model:</th>              <td>    14</td>      <th>                     </th>      <td> </td>     \n",
       "</tr>\n",
       "<tr>\n",
       "  <th>Covariance Type:</th>      <td>nonrobust</td>    <th>                     </th>      <td> </td>     \n",
       "</tr>\n",
       "</table>\n",
       "<table class=\"simpletable\">\n",
       "<tr>\n",
       "                 <td></td>                   <th>coef</th>     <th>std err</th>      <th>t</th>      <th>P>|t|</th>  <th>[0.025</th>    <th>0.975]</th>  \n",
       "</tr>\n",
       "<tr>\n",
       "  <th>const</th>                          <td> 3.216e+04</td> <td>  243.164</td> <td>  132.243</td> <td> 0.000</td> <td> 3.17e+04</td> <td> 3.26e+04</td>\n",
       "</tr>\n",
       "<tr>\n",
       "  <th>equipment_age</th>                  <td>-1359.5430</td> <td>    4.515</td> <td> -301.098</td> <td> 0.000</td> <td>-1368.393</td> <td>-1350.693</td>\n",
       "</tr>\n",
       "<tr>\n",
       "  <th>Hydraulics_3 Valve</th>             <td> 1665.5365</td> <td>  246.538</td> <td>    6.756</td> <td> 0.000</td> <td> 1182.328</td> <td> 2148.745</td>\n",
       "</tr>\n",
       "<tr>\n",
       "  <th>Hydraulics_4 Valve</th>             <td>  1.17e+04</td> <td>  334.684</td> <td>   34.953</td> <td> 0.000</td> <td>  1.1e+04</td> <td> 1.24e+04</td>\n",
       "</tr>\n",
       "<tr>\n",
       "  <th>Hydraulics_Auxiliary</th>           <td> -2.65e+04</td> <td>  124.373</td> <td> -213.068</td> <td> 0.000</td> <td>-2.67e+04</td> <td>-2.63e+04</td>\n",
       "</tr>\n",
       "<tr>\n",
       "  <th>Hydraulics_Base +</th>              <td> 1.602e+04</td> <td>  129.522</td> <td>  123.658</td> <td> 0.000</td> <td> 1.58e+04</td> <td> 1.63e+04</td>\n",
       "</tr>\n",
       "<tr>\n",
       "  <th>Hydraulics_None or Unspecified</th> <td>-1.637e+04</td> <td>   84.856</td> <td> -192.927</td> <td> 0.000</td> <td>-1.65e+04</td> <td>-1.62e+04</td>\n",
       "</tr>\n",
       "<tr>\n",
       "  <th>Hydraulics_Standard</th>            <td>-2.526e+04</td> <td>  108.404</td> <td> -232.977</td> <td> 0.000</td> <td>-2.55e+04</td> <td> -2.5e+04</td>\n",
       "</tr>\n",
       "<tr>\n",
       "  <th>Enclosure_EROPS w AC</th>           <td> 1.308e+04</td> <td>   82.383</td> <td>  158.785</td> <td> 0.000</td> <td> 1.29e+04</td> <td> 1.32e+04</td>\n",
       "</tr>\n",
       "<tr>\n",
       "  <th>Enclosure_OROPS</th>                <td>-5600.2141</td> <td>   78.361</td> <td>  -71.467</td> <td> 0.000</td> <td>-5753.799</td> <td>-5446.629</td>\n",
       "</tr>\n",
       "<tr>\n",
       "  <th>ProductSize_Large</th>              <td>  3.57e+04</td> <td>  267.654</td> <td>  133.381</td> <td> 0.000</td> <td> 3.52e+04</td> <td> 3.62e+04</td>\n",
       "</tr>\n",
       "<tr>\n",
       "  <th>ProductSize_Large / Medium</th>     <td> 4.694e+04</td> <td>  273.344</td> <td>  171.736</td> <td> 0.000</td> <td> 4.64e+04</td> <td> 4.75e+04</td>\n",
       "</tr>\n",
       "<tr>\n",
       "  <th>ProductSize_Medium</th>             <td> 1.929e+04</td> <td>  237.761</td> <td>   81.128</td> <td> 0.000</td> <td> 1.88e+04</td> <td> 1.98e+04</td>\n",
       "</tr>\n",
       "<tr>\n",
       "  <th>ProductSize_Mini</th>               <td> 1.682e+04</td> <td>  283.888</td> <td>   59.257</td> <td> 0.000</td> <td> 1.63e+04</td> <td> 1.74e+04</td>\n",
       "</tr>\n",
       "<tr>\n",
       "  <th>ProductSize_Small</th>              <td> 3.219e+04</td> <td>  282.988</td> <td>  113.744</td> <td> 0.000</td> <td> 3.16e+04</td> <td> 3.27e+04</td>\n",
       "</tr>\n",
       "</table>\n",
       "<table class=\"simpletable\">\n",
       "<tr>\n",
       "  <th>Omnibus:</th>       <td>46695.688</td> <th>  Durbin-Watson:     </th>  <td>   2.001</td> \n",
       "</tr>\n",
       "<tr>\n",
       "  <th>Prob(Omnibus):</th>  <td> 0.000</td>   <th>  Jarque-Bera (JB):  </th> <td>123389.239</td>\n",
       "</tr>\n",
       "<tr>\n",
       "  <th>Skew:</th>           <td> 0.859</td>   <th>  Prob(JB):          </th>  <td>    0.00</td> \n",
       "</tr>\n",
       "<tr>\n",
       "  <th>Kurtosis:</th>       <td> 5.627</td>   <th>  Cond. No.          </th>  <td>    267.</td> \n",
       "</tr>\n",
       "</table>"
      ],
      "text/plain": [
       "<class 'statsmodels.iolib.summary.Summary'>\n",
       "\"\"\"\n",
       "                            OLS Regression Results                            \n",
       "==============================================================================\n",
       "Dep. Variable:              SalePrice   R-squared:                       0.542\n",
       "Model:                            OLS   Adj. R-squared:                  0.542\n",
       "Method:                 Least Squares   F-statistic:                 2.535e+04\n",
       "Date:                Tue, 20 Feb 2018   Prob (F-statistic):               0.00\n",
       "Time:                        15:27:36   Log-Likelihood:            -3.3276e+06\n",
       "No. Observations:              300464   AIC:                         6.655e+06\n",
       "Df Residuals:                  300449   BIC:                         6.655e+06\n",
       "Df Model:                          14                                         \n",
       "Covariance Type:            nonrobust                                         \n",
       "==================================================================================================\n",
       "                                     coef    std err          t      P>|t|      [0.025      0.975]\n",
       "--------------------------------------------------------------------------------------------------\n",
       "const                           3.216e+04    243.164    132.243      0.000    3.17e+04    3.26e+04\n",
       "equipment_age                  -1359.5430      4.515   -301.098      0.000   -1368.393   -1350.693\n",
       "Hydraulics_3 Valve              1665.5365    246.538      6.756      0.000    1182.328    2148.745\n",
       "Hydraulics_4 Valve               1.17e+04    334.684     34.953      0.000     1.1e+04    1.24e+04\n",
       "Hydraulics_Auxiliary            -2.65e+04    124.373   -213.068      0.000   -2.67e+04   -2.63e+04\n",
       "Hydraulics_Base +               1.602e+04    129.522    123.658      0.000    1.58e+04    1.63e+04\n",
       "Hydraulics_None or Unspecified -1.637e+04     84.856   -192.927      0.000   -1.65e+04   -1.62e+04\n",
       "Hydraulics_Standard            -2.526e+04    108.404   -232.977      0.000   -2.55e+04    -2.5e+04\n",
       "Enclosure_EROPS w AC            1.308e+04     82.383    158.785      0.000    1.29e+04    1.32e+04\n",
       "Enclosure_OROPS                -5600.2141     78.361    -71.467      0.000   -5753.799   -5446.629\n",
       "ProductSize_Large                3.57e+04    267.654    133.381      0.000    3.52e+04    3.62e+04\n",
       "ProductSize_Large / Medium      4.694e+04    273.344    171.736      0.000    4.64e+04    4.75e+04\n",
       "ProductSize_Medium              1.929e+04    237.761     81.128      0.000    1.88e+04    1.98e+04\n",
       "ProductSize_Mini                1.682e+04    283.888     59.257      0.000    1.63e+04    1.74e+04\n",
       "ProductSize_Small               3.219e+04    282.988    113.744      0.000    3.16e+04    3.27e+04\n",
       "==============================================================================\n",
       "Omnibus:                    46695.688   Durbin-Watson:                   2.001\n",
       "Prob(Omnibus):                  0.000   Jarque-Bera (JB):           123389.239\n",
       "Skew:                           0.859   Prob(JB):                         0.00\n",
       "Kurtosis:                       5.627   Cond. No.                         267.\n",
       "==============================================================================\n",
       "\n",
       "Warnings:\n",
       "[1] Standard Errors assume that the covariance matrix of the errors is correctly specified.\n",
       "\"\"\""
      ]
     },
     "execution_count": 71,
     "metadata": {},
     "output_type": "execute_result"
    }
   ],
   "source": [
    "reg = sm.OLS(y_train, X_train).fit()\n",
    "reg.summary()"
   ]
  },
  {
   "cell_type": "code",
   "execution_count": 72,
   "metadata": {},
   "outputs": [
    {
     "data": {
      "text/plain": [
       "LinearRegression(copy_X=True, fit_intercept=True, n_jobs=1, normalize=False)"
      ]
     },
     "execution_count": 72,
     "metadata": {},
     "output_type": "execute_result"
    }
   ],
   "source": [
    "lm = LinearRegression()\n",
    "lm.fit(X_train,y_train)"
   ]
  },
  {
   "cell_type": "code",
   "execution_count": 75,
   "metadata": {},
   "outputs": [
    {
     "name": "stdout",
     "output_type": "stream",
     "text": [
      "R-SQARED AGAINST UNSEEN TEST DATA:\n",
      "0.542\n"
     ]
    }
   ],
   "source": [
    "print \"R-SQARED AGAINST UNSEEN TEST DATA:\"\n",
    "print round(lm.score(X_test, y_test),3)"
   ]
  },
  {
   "cell_type": "markdown",
   "metadata": {
    "collapsed": true
   },
   "source": [
    "Final takeaways:\n",
    "\n",
    "Features associated with higher selling prices for heavy equipment:\n",
    "* equipment age - younger\n",
    "* product size - larger/medium\n",
    "* enclosure - EROPS w AC\n",
    "* hydraulics - Base+ or 4 valve"
   ]
  },
  {
   "cell_type": "code",
   "execution_count": null,
   "metadata": {},
   "outputs": [],
   "source": []
  }
 ],
 "metadata": {
  "kernelspec": {
   "display_name": "Python 2",
   "language": "python",
   "name": "python2"
  },
  "language_info": {
   "codemirror_mode": {
    "name": "ipython",
    "version": 2
   },
   "file_extension": ".py",
   "mimetype": "text/x-python",
   "name": "python",
   "nbconvert_exporter": "python",
   "pygments_lexer": "ipython2",
   "version": "2.7.12"
  }
 },
 "nbformat": 4,
 "nbformat_minor": 2
}
